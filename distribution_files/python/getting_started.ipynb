{
 "cells": [
  {
   "cell_type": "code",
   "execution_count": null,
   "metadata": {},
   "outputs": [],
   "source": [
    "from moonlight import *\n",
    "import numpy as np\n",
    "import matplotlib.pyplot as plt\n",
    "plt.rcParams[\"figure.figsize\"] = (15,10)"
   ]
  },
  {
   "cell_type": "code",
   "execution_count": null,
   "metadata": {},
   "outputs": [],
   "source": [
    "script = \"\"\"\n",
    "signal { real x; real y;}\n",
    "domain boolean; \n",
    "formula future = globally [0, 0.2]  (x > y);\n",
    "formula past = historically [0, 0.2]  (x > y);\n",
    "\"\"\"\n",
    "moonlightScript = ScriptLoader.loadFromText(script)"
   ]
  },
  {
   "cell_type": "code",
   "execution_count": null,
   "metadata": {},
   "outputs": [],
   "source": [
    "monitor = moonlightScript.getMonitor(\"future\")\n",
    "time =list(np.arange(0,10,0.05))\n",
    "f1,f2 = np.sin(time),np.cos(time)\n",
    "space = list(zip(f1,f2))\n",
    "result = np.array(monitor.monitor(time,space))\n",
    "plt.plot(time,f1)\n",
    "plt.plot(time,f2)\n",
    "plt.step(result[:,0],result[:,1])"
   ]
  },
  {
   "cell_type": "code",
   "execution_count": null,
   "metadata": {},
   "outputs": [],
   "source": [
    "monitor = moonlightScript.getMonitor(\"past\")\n",
    "time =list(np.arange(0,10,0.05))\n",
    "f1,f2 = np.sin(time),np.cos(time)\n",
    "space = list(zip(f1,f2))\n",
    "result = np.array(monitor.monitor(time,space))\n",
    "plt.plot(time,f1)\n",
    "plt.plot(time,f2)\n",
    "plt.step(result[:,0],result[:,1])"
   ]
  },
  {
   "cell_type": "code",
   "execution_count": null,
   "metadata": {},
   "outputs": [],
   "source": [
    "script = \"\"\"\n",
    "signal { real x; }\n",
    "domain boolean; \n",
    "formula future = globally [0, 0.2]  (x > 1);\n",
    "\"\"\"\n",
    "moonlightScript = ScriptLoader.loadFromText(script)"
   ]
  },
  {
   "cell_type": "code",
   "execution_count": null,
   "metadata": {},
   "outputs": [],
   "source": [
    "monitor = moonlightScript.getMonitor(\"future\")\n",
    "time =list(np.arange(0,10,0.05))\n",
    "f1=np.sin(time)\n",
    "space = [[x] for x in f1]\n",
    "result =monitor.monitor(time,space)"
   ]
  },
  {
   "cell_type": "code",
   "execution_count": null,
   "metadata": {},
   "outputs": [],
   "source": [
    "print(result)"
   ]
  },
  {
   "cell_type": "markdown",
   "metadata": {},
   "source": [
    "### Spatio-temporal Example"
   ]
  },
  {
   "cell_type": "markdown",
   "metadata": {},
   "source": [
    "#### loadFromText"
   ]
  },
  {
   "cell_type": "code",
   "execution_count": null,
   "metadata": {},
   "outputs": [],
   "source": [
    "script = \"\"\"\n",
    "signal { int nodeType; }\n",
    "space {edges { int hop; }}\n",
    "domain boolean;\n",
    "formula MyFirstFormula = globally{( nodeType==3 ) reach(hop) [0, 1] ( nodeType==1 )};\n",
    "\"\"\"\n",
    "moonlightScript = ScriptLoader.loadFromText(script)\n",
    "monitor = moonlightScript.getMonitor(\"MyFirstFormula\")\n",
    "\n",
    "graph = [[[0.0, 1.0, 1.0], [0.0, 3.0, 1.0], [0.0, 4.0, 1.0], [1.0, 0.0, 1.0], [1.0, 4.0, 1.0], [1.0, 2.0, 1.0], [2.0, 1.0, 1.0], [2.0, 4.0, 1.0], [2.0, 3.0, 1.0], [3.0, 0.0, 1.0], [3.0, 2.0, 1.0], [3.0, 4.0, 1.0], [4.0, 0.0, 1.0], [4.0, 1.0, 1.0], [4.0, 2.0, 1.0], [4.0, 3.0, 1.0]]]\n",
    "locationTimeArray = [0.0]\n",
    "signal = [[[1.0]], [[3.0]], [[3.0]], [[3.0]], [[3.0]]]\n",
    "\n",
    "result = monitor.monitor(locationTimeArray,graph,locationTimeArray,signal)\n",
    "print(result)"
   ]
  },
  {
   "cell_type": "markdown",
   "metadata": {},
   "source": [
    "#### loadFormFile"
   ]
  },
  {
   "cell_type": "code",
   "execution_count": null,
   "metadata": {},
   "outputs": [],
   "source": [
    "scriptPath = \"script.mls\"\n",
    "moonlightScript = ScriptLoader.loadFromFile(scriptPath)\n",
    "monitor = moonlightScript.getMonitor(\"MyFirstFormula\")\n",
    "\n",
    "graph = [[[0.0, 1.0, 1.0], [0.0, 3.0, 1.0], [0.0, 4.0, 1.0], [1.0, 0.0, 1.0], [1.0, 4.0, 1.0], [1.0, 2.0, 1.0], [2.0, 1.0, 1.0], [2.0, 4.0, 1.0], [2.0, 3.0, 1.0], [3.0, 0.0, 1.0], [3.0, 2.0, 1.0], [3.0, 4.0, 1.0], [4.0, 0.0, 1.0], [4.0, 1.0, 1.0], [4.0, 2.0, 1.0], [4.0, 3.0, 1.0]]]\n",
    "locationTimeArray = [0.0]\n",
    "signal = [[[1.0]], [[3.0]], [[3.0]], [[3.0]], [[3.0]]]\n",
    "\n",
    "result = monitor.monitor(locationTimeArray,graph,locationTimeArray,signal)\n",
    "print(result)"
   ]
  },
  {
   "cell_type": "code",
   "execution_count": null,
   "metadata": {},
   "outputs": [],
   "source": []
  }
 ],
 "metadata": {
  "kernelspec": {
   "display_name": "Python 3",
   "language": "python",
   "name": "python3"
  },
  "language_info": {
   "codemirror_mode": {
    "name": "ipython",
    "version": 3
   },
   "file_extension": ".py",
   "mimetype": "text/x-python",
   "name": "python",
   "nbconvert_exporter": "python",
   "pygments_lexer": "ipython3",
   "version": "3.7.7"
  },
  "toc": {
   "base_numbering": 1,
   "nav_menu": {},
   "number_sections": true,
   "sideBar": true,
   "skip_h1_title": false,
   "title_cell": "Table of Contents",
   "title_sidebar": "Contents",
   "toc_cell": false,
   "toc_position": {},
   "toc_section_display": true,
   "toc_window_display": false
  }
 },
 "nbformat": 4,
 "nbformat_minor": 4
}

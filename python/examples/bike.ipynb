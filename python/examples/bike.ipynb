{
 "cells": [
  {
   "cell_type": "markdown",
   "id": "graduate-rendering",
   "metadata": {},
   "source": [
    "#### imports"
   ]
  },
  {
   "cell_type": "code",
   "execution_count": 1,
   "id": "victorian-range",
   "metadata": {},
   "outputs": [],
   "source": [
    "import pandas as pd \n",
    "from moonlight import *\n",
    "import numpy as np\n",
    "from datetime import datetime\n",
    "import matplotlib.pyplot as plt\n",
    "import geopy.distance\n",
    "plt.rcParams[\"figure.figsize\"] = (15,10)"
   ]
  },
  {
   "cell_type": "markdown",
   "id": "desperate-accident",
   "metadata": {},
   "source": [
    "#### load dataset\n",
    "you need to download the _Melbourne Bike Share Station Readings 2011-2017_ dataset from [here](https://data.melbourne.vic.gov.au/Transport/Melbourne-Bike-Share-Station-Readings-2011-2017/74id-aqj9)"
   ]
  },
  {
   "cell_type": "code",
   "execution_count": 2,
   "id": "vocational-round",
   "metadata": {},
   "outputs": [],
   "source": [
    "#data_path = \"path_to_dataset\"\n",
    "data_path = \"./examples/bike/Melbourne_Bike_Share_Station_Readings_2011-2017.csv\"\n",
    "df = pd.read_csv(data_path)"
   ]
  },
  {
   "cell_type": "markdown",
   "id": "deluxe-orientation",
   "metadata": {},
   "source": [
    "#### get data from 22 Aprile 2017"
   ]
  },
  {
   "cell_type": "code",
   "execution_count": 3,
   "id": "difficult-alexandria",
   "metadata": {},
   "outputs": [],
   "source": [
    "df_day = df[df['RUNDATE'].apply(lambda date: str(date).startswith('20170422'))]"
   ]
  },
  {
   "cell_type": "markdown",
   "id": "optimum-puzzle",
   "metadata": {},
   "source": [
    "#### add column ABSOLUTETIME representing the time in seconds starting from 00:00"
   ]
  },
  {
   "cell_type": "code",
   "execution_count": 4,
   "id": "included-afternoon",
   "metadata": {},
   "outputs": [
    {
     "name": "stderr",
     "output_type": "stream",
     "text": [
      "/home/ssilvetti/miniconda3/lib/python3.6/site-packages/ipykernel_launcher.py:12: SettingWithCopyWarning: \n",
      "A value is trying to be set on a copy of a slice from a DataFrame.\n",
      "Try using .loc[row_indexer,col_indexer] = value instead\n",
      "\n",
      "See the caveats in the documentation: https://pandas.pydata.org/pandas-docs/stable/user_guide/indexing.html#returning-a-view-versus-a-copy\n",
      "  if sys.path[0] == '':\n"
     ]
    }
   ],
   "source": [
    "def total_seconds(int_date):\n",
    "    date = str(int_date)\n",
    "    year = int(date[:4])\n",
    "    month = int(date[4:6])\n",
    "    day = int(date[6:8])\n",
    "    hour = int(date[8:10])\n",
    "    minutes = int(date[10:12])\n",
    "    seconds = int(date[12:])\n",
    "    delta = datetime(year, month, day, hour, minutes, seconds) - datetime(year, month, day, 0, 0, 0)\n",
    "    return delta.total_seconds()\n",
    "\n",
    "df_day['ABSOLUTETIME']=df_day['RUNDATE'].apply(lambda date: total_seconds(date))"
   ]
  },
  {
   "cell_type": "code",
   "execution_count": 5,
   "id": "interracial-video",
   "metadata": {},
   "outputs": [],
   "source": [
    "import math\n",
    "\n",
    "class Location:\n",
    "    def __init__(self,index ,name, coordinates, trace):\n",
    "        self.index = index\n",
    "        self.name = name\n",
    "        self.coordinates = coordinates\n",
    "        self.trace=trace\n",
    "        \n",
    "    def distance(self, other):\n",
    "        left = self.coordinates\n",
    "        right = other.coordinates\n",
    "        return geopy.distance.distance(left, right).m\n",
    "    \n",
    "    def get_trace_values(self):\n",
    "        return [[value[1]] for value in self.trace]\n",
    "    \n",
    "    def get_trace_time(self):\n",
    "        return [value[0] for value in self.trace]\n",
    "    \n",
    "    def __str__(self):\n",
    "        return f\"[{self.index},{self.coordinates}]\"\n",
    "\n",
    "        \n",
    "class LocationDatabase:\n",
    "    def __init__(self):\n",
    "        self.db = list()\n",
    "        \n",
    "    @staticmethod\n",
    "    def get_location_full(df, name, index):\n",
    "        location = df[df['NAME'] == name]\n",
    "        row = location.iloc[0]\n",
    "        coordinates = row['LAT'],row['LONG']\n",
    "        traces = location.apply(lambda row: (row['ABSOLUTETIME'], row['NBBIKES']), axis = 1 )\n",
    "        values = list(traces.values)\n",
    "        values.sort(key=lambda x: x[0])\n",
    "        return Location(index,name,coordinates,values)\n",
    "    \n",
    "    def generate_from_df(self,df):\n",
    "        location_names = df_day['NAME'].unique()\n",
    "        n = 0\n",
    "        for name in location_names:\n",
    "            self.db.append(self.get_location_full(df, name, n))\n",
    "            n=n+1\n",
    "    \n",
    "    def get_graph(self):\n",
    "        graph = []\n",
    "        for l_idx in range(len(self.db)):\n",
    "            for r_idx in range(len(self.db)):\n",
    "                left_location = self.db[l_idx]\n",
    "                right_location = self.db[r_idx]\n",
    "                graph.append([left_location.index,right_location.index, left_location.distance(right_location)])\n",
    "        return [graph]\n",
    "    \n",
    "    def get_traces(self):\n",
    "        return [location.get_trace_values() for location in self.db ]\n",
    "    \n",
    "    def get_time(self):\n",
    "        return self.db[0].get_trace_time()\n",
    "    \n",
    "    def show_locations_map(self):\n",
    "        coordinates = [location.coordinates for location in self.db]\n",
    "        lat = [x[0] for x in coordinates]\n",
    "        long = [x[1] for x in coordinates]\n",
    "        print(\"lat\",min(lat),max(lat))\n",
    "        print(\"long\",min(long),max(long))\n",
    "        plt.scatter(lat, long)\n",
    "        plt.show()\n",
    "        \n",
    "        \n",
    "\n",
    "    def __str__(self):\n",
    "        return str([str(location) for location in self.db])"
   ]
  },
  {
   "cell_type": "code",
   "execution_count": 6,
   "id": "cloudy-genre",
   "metadata": {},
   "outputs": [
    {
     "name": "stdout",
     "output_type": "stream",
     "text": [
      "lat -37.867067999999996 -37.79625\n",
      "long 144.935296 144.988507\n"
     ]
    },
    {
     "data": {
      "image/png": "[encoded data removed]",
      "text/plain": [
       "<Figure size 432x288 with 1 Axes>"
      ]
     },
     "metadata": {
      "needs_background": "light"
     },
     "output_type": "display_data"
    }
   ],
   "source": [
    "locationDb = LocationDatabase()\n",
    "locationDb.generate_from_df(df_day)\n",
    "locationDb.show_locations_map()"
   ]
  },
  {
   "cell_type": "code",
   "execution_count": 8,
   "id": "postal-wings",
   "metadata": {},
   "outputs": [
    {
     "name": "stdout",
     "output_type": "stream",
     "text": [
      "[[[5.0, 1.0], [61205.0, 1.0], [62105.0, 1.0], [65709.0, 1.0], [75605.0, 1.0], [85510.0, 1.0]], [[5.0, 1.0], [61205.0, 1.0], [62105.0, 1.0], [65709.0, 1.0], [75605.0, 1.0], [85510.0, 1.0]], [[5.0, 1.0], [61205.0, 1.0], [62105.0, 1.0], [65709.0, 1.0], [75605.0, 1.0], [85510.0, 1.0]], [[5.0, 1.0], [61205.0, 1.0], [62105.0, 1.0], [65709.0, 1.0], [75605.0, 1.0], [85510.0, 1.0]], [[5.0, 1.0], [61205.0, 1.0], [62105.0, 1.0], [65709.0, 1.0], [75605.0, 1.0], [85510.0, 1.0]], [[5.0, 1.0], [61205.0, 1.0], [62105.0, 1.0], [65709.0, 1.0], [75605.0, 1.0], [85510.0, 1.0]], [[5.0, 1.0], [61205.0, 1.0], [62105.0, 1.0], [65709.0, 1.0], [75605.0, 1.0], [85510.0, 1.0]], [[5.0, 1.0], [61205.0, 1.0], [62105.0, 1.0], [65709.0, 1.0], [75605.0, 1.0], [85510.0, 1.0]], [[5.0, 1.0], [61205.0, 1.0], [62105.0, 1.0], [65709.0, 1.0], [75605.0, 1.0], [85510.0, 1.0]], [[5.0, -1.0], [61205.0, 1.0], [62105.0, 1.0], [65709.0, 1.0], [75605.0, 1.0], [85510.0, 1.0]], [[5.0, 1.0], [61205.0, 1.0], [62105.0, 1.0], [65709.0, 1.0], [75605.0, 1.0], [85510.0, 1.0]], [[5.0, 1.0], [61205.0, 1.0], [62105.0, 1.0], [65709.0, 1.0], [75605.0, 1.0], [85510.0, 1.0]], [[5.0, 1.0], [61205.0, 1.0], [62105.0, 1.0], [65709.0, 1.0], [75605.0, 1.0], [85510.0, 1.0]], [[5.0, 1.0], [61205.0, 1.0], [62105.0, 1.0], [65709.0, 1.0], [75605.0, 1.0], [85510.0, 1.0]], [[5.0, 1.0], [61205.0, 1.0], [62105.0, 1.0], [65709.0, 1.0], [75605.0, 1.0], [85510.0, 1.0]], [[5.0, 1.0], [61205.0, 1.0], [62105.0, 1.0], [65709.0, 1.0], [75605.0, 1.0], [85510.0, 1.0]], [[5.0, 1.0], [61205.0, 1.0], [62105.0, 1.0], [65709.0, 1.0], [75605.0, 1.0], [85510.0, 1.0]], [[5.0, 1.0], [61205.0, 1.0], [62105.0, 1.0], [65709.0, 1.0], [75605.0, 1.0], [85510.0, 1.0]], [[5.0, 1.0], [61205.0, 1.0], [62105.0, 1.0], [65709.0, 1.0], [75605.0, 1.0], [85510.0, 1.0]], [[5.0, 1.0], [61205.0, 1.0], [62105.0, 1.0], [65709.0, 1.0], [75605.0, 1.0], [85510.0, 1.0]], [[5.0, 1.0], [61205.0, 1.0], [62105.0, 1.0], [65709.0, 1.0], [75605.0, 1.0], [85510.0, 1.0]], [[5.0, 1.0], [61205.0, 1.0], [62105.0, 1.0], [65709.0, 1.0], [75605.0, 1.0], [85510.0, 1.0]], [[5.0, 1.0], [61205.0, 1.0], [62105.0, 1.0], [65709.0, 1.0], [75605.0, 1.0], [85510.0, 1.0]], [[5.0, 1.0], [61205.0, 1.0], [62105.0, 1.0], [65709.0, 1.0], [75605.0, 1.0], [85510.0, 1.0]], [[5.0, 1.0], [61205.0, 1.0], [62105.0, 1.0], [65709.0, 1.0], [75605.0, 1.0], [85510.0, 1.0]], [[5.0, -1.0], [61205.0, -1.0], [62105.0, 1.0], [65709.0, 1.0], [75605.0, 1.0], [85510.0, 1.0]], [[5.0, 1.0], [61205.0, 1.0], [62105.0, 1.0], [65709.0, 1.0], [75605.0, 1.0], [85510.0, 1.0]], [[5.0, 1.0], [61205.0, 1.0], [62105.0, 1.0], [65709.0, 1.0], [75605.0, 1.0], [85510.0, 1.0]], [[5.0, 1.0], [61205.0, 1.0], [62105.0, 1.0], [65709.0, 1.0], [75605.0, 1.0], [85510.0, 1.0]], [[5.0, 1.0], [61205.0, 1.0], [62105.0, 1.0], [65709.0, 1.0], [75605.0, 1.0], [85510.0, 1.0]], [[5.0, 1.0], [61205.0, 1.0], [62105.0, 1.0], [65709.0, 1.0], [75605.0, 1.0], [85510.0, 1.0]], [[5.0, 1.0], [61205.0, 1.0], [62105.0, 1.0], [65709.0, 1.0], [75605.0, 1.0], [85510.0, 1.0]], [[5.0, 1.0], [61205.0, 1.0], [62105.0, 1.0], [65709.0, 1.0], [75605.0, 1.0], [85510.0, 1.0]], [[5.0, 1.0], [61205.0, 1.0], [62105.0, 1.0], [65709.0, 1.0], [75605.0, 1.0], [85510.0, 1.0]], [[5.0, 1.0], [61205.0, 1.0], [62105.0, 1.0], [65709.0, 1.0], [75605.0, 1.0], [85510.0, 1.0]], [[5.0, 1.0], [61205.0, 1.0], [62105.0, 1.0], [65709.0, 1.0], [75605.0, 1.0], [85510.0, 1.0]], [[5.0, 1.0], [61205.0, 1.0], [62105.0, 1.0], [65709.0, 1.0], [75605.0, 1.0], [85510.0, 1.0]], [[5.0, 1.0], [61205.0, 1.0], [62105.0, 1.0], [65709.0, 1.0], [75605.0, 1.0], [85510.0, 1.0]], [[5.0, 1.0], [61205.0, 1.0], [62105.0, 1.0], [65709.0, 1.0], [75605.0, 1.0], [85510.0, 1.0]], [[5.0, -1.0], [61205.0, -1.0], [62105.0, -1.0], [65709.0, 1.0], [75605.0, 1.0], [85510.0, 1.0]], [[5.0, -1.0], [61205.0, -1.0], [62105.0, -1.0], [65709.0, -1.0], [75605.0, 1.0], [85510.0, 1.0]], [[5.0, 1.0], [61205.0, 1.0], [62105.0, 1.0], [65709.0, 1.0], [75605.0, 1.0], [85510.0, 1.0]], [[5.0, 1.0], [61205.0, 1.0], [62105.0, 1.0], [65709.0, 1.0], [75605.0, 1.0], [85510.0, 1.0]], [[5.0, 1.0], [61205.0, 1.0], [62105.0, 1.0], [65709.0, 1.0], [75605.0, 1.0], [85510.0, 1.0]], [[5.0, 1.0], [61205.0, 1.0], [62105.0, 1.0], [65709.0, 1.0], [75605.0, 1.0], [85510.0, 1.0]], [[5.0, 1.0], [61205.0, 1.0], [62105.0, 1.0], [65709.0, 1.0], [75605.0, 1.0], [85510.0, 1.0]], [[5.0, 1.0], [61205.0, 1.0], [62105.0, 1.0], [65709.0, 1.0], [75605.0, 1.0], [85510.0, 1.0]], [[5.0, 1.0], [61205.0, 1.0], [62105.0, 1.0], [65709.0, 1.0], [75605.0, 1.0], [85510.0, 1.0]], [[5.0, -1.0], [61205.0, -1.0], [62105.0, -1.0], [65709.0, -1.0], [75605.0, 1.0], [85510.0, 1.0]], [[5.0, 1.0], [61205.0, 1.0], [62105.0, 1.0], [65709.0, 1.0], [75605.0, 1.0], [85510.0, 1.0]]]\n"
     ]
    }
   ],
   "source": [
    "script = \"\"\"\n",
    "signal { int nBikes; }\n",
    "space {edges { real distance; }}\n",
    "domain boolean;\n",
    "formula service = globally{( nBikes==0 ) reach(distance) [0, 500] ( nBikes>0 )};\n",
    "\"\"\"\n",
    "moonlightScript = ScriptLoader.loadFromText(script)\n",
    "booleanMonitor = moonlightScript.getMonitor(\"service\")\n",
    "timeGraph = [0.0]\n",
    "graph = locationDb.get_graph()\n",
    "timeSignalValues = locationDb.get_time()\n",
    "signalValues = locationDb.get_traces()\n",
    "booleanMonitorResult = booleanMonitor.monitor(timeGraph,graph,timeSignalValues,signalValues)\n",
    "print(booleanMonitorResult)"
   ]
  }
 ],
 "metadata": {
  "kernelspec": {
   "display_name": "base",
   "language": "python",
   "name": "base"
  },
  "language_info": {
   "codemirror_mode": {
    "name": "ipython",
    "version": 3
   },
   "file_extension": ".py",
   "mimetype": "text/x-python",
   "name": "python",
   "nbconvert_exporter": "python",
   "pygments_lexer": "ipython3",
   "version": "3.6.9"
  }
 },
 "nbformat": 4,
 "nbformat_minor": 5
}

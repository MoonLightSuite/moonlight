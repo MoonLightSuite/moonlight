{
 "cells": [
  {
   "cell_type": "code",
   "execution_count": 1,
   "metadata": {},
   "outputs": [],
   "source": [
    "# %load hovorka.py\n",
    "\n",
    "import matplotlib.pyplot as plt\n",
    "import numpy as np\n",
    "from scipy.integrate import odeint\n",
    "\n",
    "\n",
    "def model(x, t, t_offset=None):\n",
    "    w = 100\n",
    "    ka1 = 0.006  #\n",
    "    ka2 = 0.06  #\n",
    "    ka3 = 0.03  #\n",
    "    kb1 = 0.0034  #\n",
    "    kb2 = 0.056  #\n",
    "    kb3 = 0.024  #\n",
    "    u_b = 0.0555\n",
    "    tmaxI = 55  #\n",
    "    VI = 0.12 * w  #\n",
    "    ke = 0.138  #\n",
    "    k12 = 0.066  #\n",
    "    VG = 0.16 * w  #\n",
    "    # G = x[0] / VG\n",
    "    F01 = 0.0097 * w  #\n",
    "    FR = 0\n",
    "    EGP0 = 0.0161 * w  #\n",
    "    AG = 0.8  #\n",
    "    Gmolar = 180.1559\n",
    "    tmaxG = 40  #\n",
    "    sp = 110 * VG / 18\n",
    "    l = (x[14] * x[10] + x[13] * x[11] + x[12] * (-(\n",
    "            - F01 - x[5] * x[0] + k12 * x[1] - FR + EGP0 * (1 - x[7]) + (x[9] * AG * 1000 / Gmolar) * x[8] * np.exp(\n",
    "        -x[8] / tmaxG) / (tmaxG ** 2)))) + u_b - x[2] / tmaxI,\n",
    "\n",
    "    dxdt = [\n",
    "        - F01 - x[5] * x[0] + k12 * x[1] - FR + EGP0 * (1 - x[7]) + (x[9] * AG * 1000 / Gmolar) * x[8] * np.exp(\n",
    "            -x[8] / tmaxG) / (tmaxG ** 2),\n",
    "    x[5] * x[0] - (k12 + x[6]) * x[1],\n",
    "        ((x[14] * x[10] + x[13] * x[11] + x[12] * (-(\n",
    "                - F01 - x[5] * x[0] + k12 * x[1] - FR + EGP0 * (1 - x[7]) + (x[9] * AG * 1000 / Gmolar) * x[8] * np.exp(\n",
    "            -x[8] / tmaxG) / (tmaxG ** 2)))) + u_b - x[2] / tmaxI) + u_b - x[2] / tmaxI,\n",
    "    (x[2] - x[3]) / tmaxI,\n",
    "    x[3] / (tmaxI * VI) - ke * x[4],\n",
    "    - ka1 * x[5] + kb1 * x[4],\n",
    "    - ka2 * x[6] + kb2 * x[4],\n",
    "    - ka3 * x[7] + kb3 * x[4],\n",
    "    1,\n",
    "    0,\n",
    "        0 - (- F01 - x[5] * x[0] + k12 * x[1] - FR + EGP0 * (1 - x[7]) + (x[9] * AG * 1000 / Gmolar) * x[8] * np.exp(\n",
    "            -x[8] / tmaxG) / (tmaxG ** 2)),\n",
    "    sp - x[0],\n",
    "    0,\n",
    "    0,\n",
    "    0,\n",
    "    (sp - x[0])**2,\n",
    "    (x[8] + t_offset)**2 * (sp - x[0])**2\n",
    "    ]\n",
    "    return dxdt"
   ]
  },
  {
   "cell_type": "code",
   "execution_count": 2,
   "metadata": {},
   "outputs": [],
   "source": [
    "w=100\n",
    "VG = 0.16 * w\n",
    "sp = 110 * VG / 18\n",
    "# initial condition\n",
    "\n",
    "Kd = [0, -0.0602, -0.0573, -0.06002, -0.0624]\n",
    "Ki = [0, -3.53e-07, -3e-07, -1.17e-07, -7.55e-07]\n",
    "Kp = [0, -6.17e-04, -6.39e-04, -6.76e-04, -5.42e-04]\n",
    "\n",
    "i=1\n",
    "dg1 = np.random.normal(40,10)\n",
    "dg2 = np.random.normal(90,10)\n",
    "dg3 = np.random.normal(60,10)\n",
    "\n",
    "# dg1 = 40\n",
    "# dg2 = 90\n",
    "# dg3 = 60\n",
    "\n",
    "x0 = [97.77, 19.08024, 3.0525, 3.0525, 0.033551, 0.01899, 0.03128, 0.02681, 0.0, dg1, 0.0, 0.0,  Kd[i], Ki[i], Kp[i], 0, 0];\n",
    "\n",
    "\n",
    "# time points\n",
    "t_offset=0\n",
    "t_sleep = 540\n",
    "t_meal = 300\n",
    "t = np.arange(0,t_meal,0.2)\n",
    "\n",
    "y = odeint(model,x0,t,args=(t_offset,))\n",
    "ytot = y\n",
    "ttot = t\n",
    "ystart  = y[-1,:]\n",
    "ystart[8] = 0\n",
    "ystart[9] = dg2\n",
    "y = odeint(model,ystart,t,args=(t_offset,))\n",
    "ytot = np.vstack([ytot,y])\n",
    "ttot = np.hstack([ttot,t+ttot[-1]])\n",
    "ystart  = y[-1,:]\n",
    "ystart[8] = 0\n",
    "ystart[9] = dg3\n",
    "t = np.arange(0,t_meal+t_sleep,0.2)\n",
    "y = odeint(model,ystart,t,args=(t_offset,))\n",
    "ytot = np.vstack([ytot,y])\n",
    "ttot = np.hstack([ttot,t+ttot[-1]])"
   ]
  },
  {
   "cell_type": "code",
   "execution_count": 3,
   "metadata": {},
   "outputs": [
    {
     "name": "stderr",
     "output_type": "stream",
     "text": [
      "No handles with labels found to put in legend.\n"
     ]
    },
    {
     "data": {
      "image/png": "[encoded data removed]",
      "text/plain": [
       "<Figure size 432x288 with 1 Axes>"
      ]
     },
     "metadata": {
      "needs_background": "light"
     },
     "output_type": "display_data"
    }
   ],
   "source": [
    "# plot results\n",
    "\n",
    "plt.fill_between([ttot[0],ttot[-1]], [4,4],[16,16],alpha=0.5)\n",
    "plt.plot(ttot,ytot[:,0]/VG,'r-',linewidth=2)\n",
    "plt.axhline(y=sp/VG, color='k', linestyle='-')\n",
    "plt.xlabel('time')\n",
    "plt.ylabel('y(t)')\n",
    "plt.legend()\n",
    "plt.xlabel('Time (min)')\n",
    "plt.ylabel('BG (mmol/L)')\n",
    "plt.show()"
   ]
  },
  {
   "cell_type": "code",
   "execution_count": 4,
   "metadata": {},
   "outputs": [
    {
     "data": {
      "text/plain": [
       "(array([0.0000e+00, 2.0000e-01, 4.0000e-01, ..., 1.4390e+03, 1.4392e+03,\n",
       "        1.4394e+03]),\n",
       " array([6.110625  , 6.11078736, 6.11128435, ..., 5.32697491, 5.32705088,\n",
       "        5.32712682]))"
      ]
     },
     "execution_count": 4,
     "metadata": {},
     "output_type": "execute_result"
    }
   ],
   "source": [
    "ttot,ytot[:,0]/VG"
   ]
  },
  {
   "cell_type": "code",
   "execution_count": null,
   "metadata": {},
   "outputs": [],
   "source": []
  }
 ],
 "metadata": {
  "kernelspec": {
   "display_name": "Python 3",
   "language": "python",
   "name": "python3"
  },
  "language_info": {
   "codemirror_mode": {
    "name": "ipython",
    "version": 3
   },
   "file_extension": ".py",
   "mimetype": "text/x-python",
   "name": "python",
   "nbconvert_exporter": "python",
   "pygments_lexer": "ipython3",
   "version": "3.6.9"
  }
 },
 "nbformat": 4,
 "nbformat_minor": 4
}
